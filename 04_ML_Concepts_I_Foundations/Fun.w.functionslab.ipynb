{
 "cells": [
  {
   "cell_type": "code",
   "execution_count": 24,
   "metadata": {},
   "outputs": [],
   "source": [
    "import pandas as pd\n",
    "\n",
    "df = pd.read_csv('../data/pregnancy.csv')"
   ]
  },
  {
   "cell_type": "markdown",
   "metadata": {},
   "source": [
    "# Question 1: What is the most common pregnancy-related material item bought and used by non-pregnant people?\n",
    "\n",
    "# Pseudocode: \n",
    "## 1. Filter the dataset for non-pregnant people only (0's)\n",
    "## 2. Select only the columns with data containing items purchased\n",
    "## 3. Sum up the purchases for each column\n",
    "## 4. Identify the item with the highest purchase count"
   ]
  },
  {
   "cell_type": "code",
   "execution_count": 32,
   "metadata": {},
   "outputs": [],
   "source": [
    "not_pregnant_df = df[df[\"PREGNANT\"] == 0] #creates a new dataframe that only has the rows where the value of the \"PREGNANT\" column is 0 (not pregnant)."
   ]
  },
  {
   "cell_type": "code",
   "execution_count": 28,
   "metadata": {},
   "outputs": [
    {
     "name": "stdout",
     "output_type": "stream",
     "text": [
      "Index(['Pregnancy Test', 'Birth Control', 'Feminine Hygiene', 'Folic Acid',\n",
      "       'Prenatal Vitamins', 'Prenatal Yoga', 'Body Pillow', 'Ginger Ale',\n",
      "       'Sea Bands', 'Stopped buying ciggies', 'Cigarettes',\n",
      "       'Smoking Cessation', 'Stopped buying wine', 'Wine', 'Maternity Clothes',\n",
      "       'PREGNANT'],\n",
      "      dtype='object')\n"
     ]
    }
   ],
   "source": [
    "column_names = df.columns # get column names to select categories of items\n",
    "print(column_names)"
   ]
  },
  {
   "cell_type": "code",
   "execution_count": null,
   "metadata": {},
   "outputs": [],
   "source": [
    "pregnancy_items = [\"Prenatal Vitamins\", \"Pregnancy Test\", \"Body Pillow\", \"Ginger Ale\", \"Sea Bands\", \"Maternity Clothes\", \"Folic Acid\"] # creates a list of pregnancy-related columns only\n"
   ]
  },
  {
   "cell_type": "code",
   "execution_count": 30,
   "metadata": {},
   "outputs": [
    {
     "name": "stdout",
     "output_type": "stream",
     "text": [
      "Prenatal Vitamins    44\n",
      "Pregnancy Test       13\n",
      "Body Pillow          12\n",
      "Ginger Ale           38\n",
      "Sea Bands            15\n",
      "Maternity Clothes    59\n",
      "Folic Acid            6\n",
      "dtype: int64\n"
     ]
    }
   ],
   "source": [
    "selected_columns = non_pregnant_df[pregnancy_items] # pulls just the columns in pregnancy_items into a new dataframe\n",
    "\n",
    "item_counts = selected_columns.sum() # sums the values for each of the columns for non-pregnant people\n",
    "\n",
    "print(item_counts)"
   ]
  },
  {
   "cell_type": "code",
   "execution_count": 31,
   "metadata": {},
   "outputs": [
    {
     "name": "stdout",
     "output_type": "stream",
     "text": [
      "Maternity Clothes\n"
     ]
    }
   ],
   "source": [
    "most_common_item = item_counts.idxmax() # finds the column with the highest sum\n",
    "print(most_common_item)"
   ]
  },
  {
   "cell_type": "code",
   "execution_count": 48,
   "metadata": {},
   "outputs": [
    {
     "name": "stdout",
     "output_type": "stream",
     "text": [
      "Most common pregnancy-related item: Maternity Clothes\n"
     ]
    }
   ],
   "source": [
    "def most_common_item_not_preg(df, pregnancy_items):\n",
    "    non_pregnant_df = df[df[\"PREGNANT\"] == 0]  # filter out pregnant people\n",
    "    item_counts = non_pregnant_df[pregnancy_items].sum()  # count purchases for each column\n",
    "    return item_counts.idxmax()  # return most common item\n",
    "\n",
    "pregnancy_items = [\"Prenatal Vitamins\", \"Pregnancy Test\", \"Body Pillow\", \"Ginger Ale\", \"Sea Bands\", \"Maternity Clothes\", \"Folic Acid\"]\n",
    "print(f\"Most common pregnancy-related item: {most_common_item_not_preg(df, pregnancy_items)}\")"
   ]
  },
  {
   "cell_type": "markdown",
   "metadata": {},
   "source": [
    "# Question 2: Are people who stop buying wine more likely to be pregnant?\n",
    "\n",
    "# Pseudocode:\n",
    "## 1: Filter the dataset to just people who stopped drinking wine\n",
    "## 2: Select pregnant column from the stopped buying wine category \n",
    "## 3: Calculate the percentage of people who stopped drinking wine that are also pregnant "
   ]
  },
  {
   "cell_type": "code",
   "execution_count": 44,
   "metadata": {},
   "outputs": [
    {
     "name": "stdout",
     "output_type": "stream",
     "text": [
      "Percentage: 60.00%\n"
     ]
    }
   ],
   "source": [
    "stopped_buying_wine_df = df[df[\"Stopped buying wine\"] == 1] # filter for just the people who stopped buying wine\n",
    "\n",
    "pregnant_column = stopped_buying_wine_df[\"PREGNANT\"] # selecting the pregnant people within the df of those who stopped buying wine\n",
    "\n",
    "mean_pregnant = pregnant_column.mean() # find the overall average of pregnant people in this category \n",
    "\n",
    "percent_pregnant_stopped_buying_wine = mean_pregnant * 100 # turn it into a percentage\n",
    "\n",
    "print(f\"Percentage: {percent_pregnant_stopped_buying_wine:.2f}%\")"
   ]
  },
  {
   "cell_type": "code",
   "execution_count": 49,
   "metadata": {},
   "outputs": [
    {
     "name": "stdout",
     "output_type": "stream",
     "text": [
      "Percentage of women that stopped buying wine and are pregnant: 60.00%\n"
     ]
    }
   ],
   "source": [
    "# function\n",
    "def percent_pregnant_stopped_buying_wine(df):\n",
    "    return (df[df[\"Stopped buying wine\"] == 1][\"PREGNANT\"].mean()) * 100\n",
    "\n",
    "print(f\"Percentage of women that stopped buying wine and are pregnant: {percent_pregnant_stopped_buying_wine(df):.2f}%\")"
   ]
  },
  {
   "cell_type": "code",
   "execution_count": 50,
   "metadata": {},
   "outputs": [
    {
     "name": "stdout",
     "output_type": "stream",
     "text": [
      "                        name mfr type  calories  protein  fat  sodium  fiber  \\\n",
      "0                  100% Bran   N    C        70        4    1     130   10.0   \n",
      "1          100% Natural Bran   Q    C       120        3    5      15    2.0   \n",
      "2                   All-Bran   K    C        70        4    1     260    9.0   \n",
      "3  All-Bran with Extra Fiber   K    C        50        4    0     140   14.0   \n",
      "4             Almond Delight   R    C       110        2    2     200    1.0   \n",
      "\n",
      "   carbo  sugars  potass  vitamins  shelf  weight  cups     rating  \n",
      "0    5.0       6     280        25      3     1.0  0.33  68.402973  \n",
      "1    8.0       8     135         0      3     1.0  1.00  33.983679  \n",
      "2    7.0       5     320        25      3     1.0  0.33  59.425505  \n",
      "3    8.0       0     330        25      3     1.0  0.50  93.704912  \n",
      "4   14.0       8      -1        25      3     1.0  0.75  34.384843  \n"
     ]
    }
   ],
   "source": [
    "df = pd.read_csv('../data/cereal.csv')\n",
    "print(df.head())"
   ]
  },
  {
   "cell_type": "markdown",
   "metadata": {},
   "source": [
    "# Question 1: What are the top 5 highest rated pcereal products with <100 calories?\n",
    "\n",
    "# Pseudocode: \n",
    "## 1. Filter the dataset to keep only cereals with <100 calories\n",
    "## 2. Sort the filtered data by rating in descending order\n",
    "## 3. Select the top 5 cereals with the highest ratings\n",
    "## 4. Keep only name, calories, rating columns \n"
   ]
  },
  {
   "cell_type": "code",
   "execution_count": 52,
   "metadata": {},
   "outputs": [
    {
     "name": "stdout",
     "output_type": "stream",
     "text": [
      "                         name  calories     rating\n",
      "3   All-Bran with Extra Fiber        50  93.704912\n",
      "64     Shredded Wheat 'n'Bran        90  74.472949\n",
      "65  Shredded Wheat spoon size        90  72.801787\n",
      "0                   100% Bran        70  68.402973\n",
      "63             Shredded Wheat        80  68.235885\n"
     ]
    }
   ],
   "source": [
    "df_less_than_100 = df.query(\"calories < 100\") #filters for cereals with less than 100 calories\n",
    "descending_df = df_less_than_100.sort_values(by=\"rating\", ascending=False)\n",
    "top_5_df = descending_df.head(5)\n",
    "result_df = top_5_df.loc[:, [\"name\", \"calories\", \"rating\"]]\n",
    "print(result_df)"
   ]
  },
  {
   "cell_type": "code",
   "execution_count": 53,
   "metadata": {},
   "outputs": [
    {
     "name": "stdout",
     "output_type": "stream",
     "text": [
      "                         name  calories     rating\n",
      "3   All-Bran with Extra Fiber        50  93.704912\n",
      "64     Shredded Wheat 'n'Bran        90  74.472949\n",
      "65  Shredded Wheat spoon size        90  72.801787\n",
      "0                   100% Bran        70  68.402973\n",
      "63             Shredded Wheat        80  68.235885\n"
     ]
    }
   ],
   "source": [
    "def high_rating_low_cal_cereals(df):\n",
    "    return (\n",
    "        df.query(\"calories < 100\")\n",
    "        .sort_values(by=\"rating\", ascending=False)\n",
    "        .head(5) \n",
    "        .loc[:, [\"name\", \"calories\", \"rating\"]] \n",
    "    )\n",
    "\n",
    "top_5_cereals = high_rating_low_cal_cereals(df)\n",
    "print(top_5_cereals)\n"
   ]
  },
  {
   "cell_type": "markdown",
   "metadata": {},
   "source": [
    "# Question 2: Do higher rated cereals tend to have more calories than lower rated cereals?\n",
    "\n",
    "# Pseudocode\n",
    "## 1. Sort the dataset by rating in descending order\n",
    "## 2. Select the top 10 highest-rated cereals\n",
    "## 3. Compute their average calories\n",
    "## 4. Select the bottom 5 lowest-rated cereals \n",
    "## 5. Compute their average calories.\n",
    "## 6. Find the difference between the two means "
   ]
  },
  {
   "cell_type": "code",
   "execution_count": 59,
   "metadata": {},
   "outputs": [
    {
     "name": "stdout",
     "output_type": "stream",
     "text": [
      "74.0\n",
      "116.0\n",
      "Difference in average calories: -42.0\n"
     ]
    }
   ],
   "source": [
    "sort_df = df.sort_values(by=\"rating\", ascending=False) #sort df by the rating column, highest to lowest\n",
    "top_10 = sort_df.head(10) # select top 10 rated\n",
    "top_10_avg_calories = top_10[\"calories\"].mean() # calculate the average # of cals \n",
    "print(top_10_avg_calories)\n",
    "bottom_10 = sort_df.tail(10) # select bottom 10 rated\n",
    "bottom_10_avg_calories = bottom_10[\"calories\"].mean() # calculate the average # of cals\n",
    "print(bottom_10_avg_calories)\n",
    "cal_diff = top_10_avg_calories - bottom_10_avg_calories # find the difference\n",
    "print(f\"Difference in average calories: {cal_diff}\")\n",
    "\n",
    "\n",
    "\n"
   ]
  },
  {
   "cell_type": "code",
   "execution_count": 67,
   "metadata": {},
   "outputs": [
    {
     "name": "stdout",
     "output_type": "stream",
     "text": [
      "{'Top 10 Avg Calories': 74.0, 'Bottom 10 Avg Calories': 116.0, 'Difference': -42.0}\n"
     ]
    }
   ],
   "source": [
    "def compare_cals_by_rating(df, top_n=10, bottom_n=10):\n",
    "    sort_df = df.sort_values(by=\"rating\", ascending=False)\n",
    "    top_avg_cals = sort_df.head(top_n)[\"calories\"].mean()\n",
    "    bottom_avg_cals = sort_df.tail(bottom_n)[\"calories\"].mean()\n",
    "    cals_diff = top_avg_cals - bottom_avg_cals\n",
    "    \n",
    "    return {\n",
    "        \"Top 10 Avg Calories\": top_avg_cals,\n",
    "        \"Bottom 10 Avg Calories\": bottom_avg_cals,\n",
    "        \"Difference\": cals_diff\n",
    "    }\n",
    "\n",
    "result = compare_cals_by_rating(df)\n",
    "print(result)"
   ]
  }
 ],
 "metadata": {
  "kernelspec": {
   "display_name": "base",
   "language": "python",
   "name": "python3"
  },
  "language_info": {
   "codemirror_mode": {
    "name": "ipython",
    "version": 3
   },
   "file_extension": ".py",
   "mimetype": "text/x-python",
   "name": "python",
   "nbconvert_exporter": "python",
   "pygments_lexer": "ipython3",
   "version": "3.11.4"
  }
 },
 "nbformat": 4,
 "nbformat_minor": 2
}
